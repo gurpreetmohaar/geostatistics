{
 "cells": [
  {
   "cell_type": "code",
   "execution_count": 1,
   "metadata": {},
   "outputs": [],
   "source": [
    "\"\"\"\n",
    "Created on Mon Feb 12 17:31:03 2018\n",
    "This script is used to perform a unidirectional window slide on 3D geological data and extract statistical features from each block.\n",
    "Parameters: Window size, Overlap and cluster gthe blocks and then generate state tansition matrix\n",
    "@author: GMohaar\n",
    "\n",
    "Steps: \n",
    "1) Sort along a single direction where you would like to slide the window\n",
    "2) Read window size and overlap settings from config file\n",
    "3) Slide window and from each block , calculate statistical features\n",
    "4) Return feature vector with block number as Id.    \n",
    "5) Cluster all the feature vectors to n clusters (select in config file\n",
    "6) Assign cluster numbers to all blocks\n",
    "7) Create state transition matrix\n",
    "\"\"\"\n",
    "\n",
    "# -*- coding: utf-8 -*-\n",
    "\"\"\"\n",
    "Created on Mon Jan 29 09:16:08 2018\n",
    "\n",
    "@author: GMohaar\n",
    "\"\"\"\n",
    "import sys\n",
    "sys.modules[__name__].__dict__.clear()\n",
    "import pandas as pd\n",
    "import yaml\n",
    "import os\n",
    "from scipy.stats import kurtosis\n",
    "from scipy.stats import skew"
   ]
  },
  {
   "cell_type": "code",
   "execution_count": 2,
   "metadata": {},
   "outputs": [
    {
     "name": "stderr",
     "output_type": "stream",
     "text": [
      "C:\\softwares\\anaconda\\lib\\site-packages\\IPython\\core\\interactiveshell.py:2785: DtypeWarning: Columns (0) have mixed types. Specify dtype option on import or set low_memory=False.\n",
      "  interactivity=interactivity, compiler=compiler, result=result)\n"
     ]
    }
   ],
   "source": [
    "#read data and windowing settings from YML\n",
    "with open(\"config.yml\", 'r') as ymlfile:\n",
    "    cfg = yaml.load(ymlfile)\n",
    "file_name = cfg['filepath']\n",
    "window_size = cfg['window_size']\n",
    "overlap = cfg['overlap']\n",
    "num_clusters = cfg['num_clusters'] \n",
    "data  = pd.read_csv(file_name,delim_whitespace=True)\n",
    "sort_along = cfg['slide_along'] #bydefault set to east. go to config file if want to slide along other directions.\n"
   ]
  },
  {
   "cell_type": "code",
   "execution_count": 3,
   "metadata": {},
   "outputs": [
    {
     "name": "stdout",
     "output_type": "stream",
     "text": [
      "      NORTH      EAST     ELEV   CUT   ASCU   RT CODE\n",
      "0  22029.21  93472.17  3080.32  0.79  0.500  9.0  LXX\n",
      "1  22110.19  93681.08  3091.64  3.42  0.390  3.0  SSE\n",
      "2  22011.80  93739.40  3092.10  2.36  0.320  2.0  SSE\n",
      "3  22020.60  93478.04  3092.63  0.23  0.001  9.0  LXX\n",
      "4  22013.10  93474.66  3093.09  0.26  0.001  9.0  LXX\n"
     ]
    }
   ],
   "source": [
    "'''preprocess data\n",
    "1. Delete variables which are not required\n",
    "2. Delete rows with incomeplte information\n",
    "'''\n",
    "data = data.drop(['ID','BLAST', 'BHS','FAULT'], axis = 1)\n",
    "data = data.dropna(axis=0, how='any', thresh=None, subset=None, inplace=False)\n",
    "print(data.head())"
   ]
  },
  {
   "cell_type": "code",
   "execution_count": 4,
   "metadata": {},
   "outputs": [],
   "source": [
    "'''Import windows slider class'''\n",
    "from Window_slide import Window_slide "
   ]
  },
  {
   "cell_type": "code",
   "execution_count": 5,
   "metadata": {},
   "outputs": [],
   "source": [
    "# Defining Function to extract features: calculates kurtosis, mean, skewness, st dev of different attributtes\n",
    "def extract_features(window_matrix):    \n",
    "     rtypes =  window_matrix.RT.nunique()\n",
    "     ctypes = window_matrix.CODE.nunique()\n",
    "     kurtosis_cut =  kurtosis(window_matrix.CUT)\n",
    "     kurtosis_ascu = kurtosis(window_matrix.ASCU)\n",
    "     skewness_cut = skew(window_matrix.CUT)\n",
    "     skewness_ascu = skew(window_matrix.ASCU)\n",
    "     mean_north = window_matrix.NORTH.mean()\n",
    "     mean_east = window_matrix.EAST.mean()\n",
    "     mean_elev = window_matrix.ELEV.mean()\n",
    "     mean_cut = window_matrix.CUT.mean()\n",
    "     mean_ascu = window_matrix.ASCU.mean()\n",
    "     std_ascu = window_matrix.ASCU.std()\n",
    "     std_cut = window_matrix.CUT.std()\n",
    "     std_north = window_matrix.NORTH.std()\n",
    "     std_east = window_matrix.EAST.std()\n",
    "     std_elev = window_matrix.ELEV.std()\n",
    "     df = pd.DataFrame({'rock_types': [rtypes], 'code_types': [ctypes],'kurtosis_CUT':[kurtosis_cut], 'kurtosis_ASCU': [kurtosis_ascu], 'skewness_CUT': [skewness_cut], 'skewness_ASCU':[skewness_ascu],'mean_north': [mean_north] ,'mean_east': [mean_east],'mean_elev': [mean_elev],'mean_cut': [mean_cut],'mean_ascu': [mean_ascu],'std_north': [std_north],'std_east': [std_east],'std_elev': [std_elev],'std_cut': [std_cut],'std_ascu': [std_ascu] })      \n",
    "     return(df)"
   ]
  },
  {
   "cell_type": "code",
   "execution_count": 6,
   "metadata": {},
   "outputs": [],
   "source": [
    "'''Execution logic goes below\n",
    "1. Window slides along the direction specified in config file\n",
    "2. function call for each block to calculate features and append to data frame\n",
    "3. End when last window readched\n",
    "'''\n",
    "#Data should be sorted in one direction either x,y,z\n",
    "sorted_data = data.sort_values(sort_along)\n",
    "#initialise class : window\n",
    "window = Window_slide(sorted_data,window_size,overlap)\n",
    "features_single_block = pd.DataFrame();\n",
    "while True:\n",
    "    window_matrix = window.slide()\n",
    "    if len(window_matrix ==window_size):\n",
    "        #print(\"TO BE DEVELOPED ...extracting features for block i .... Printing data in block\" ,window_matrix )\n",
    "        features_single_block = features_single_block.append(extract_features(window_matrix), ignore_index=True)\n",
    "        if window.reached_end_of_list(): break"
   ]
  },
  {
   "cell_type": "code",
   "execution_count": 7,
   "metadata": {},
   "outputs": [
    {
     "name": "stdout",
     "output_type": "stream",
     "text": [
      "   rock_types  code_types  kurtosis_CUT  kurtosis_ASCU  skewness_CUT  \\\n",
      "0           9           4      7.052115      16.060144      2.548896   \n",
      "1           9           4      6.517871      17.365461      2.432630   \n",
      "2           7           3      5.465062       1.148718      2.225556   \n",
      "3           7           3      5.440773       1.502412      2.219846   \n",
      "4           8           4      6.078876       4.072747      2.316742   \n",
      "\n",
      "   skewness_ASCU  mean_north   mean_east  mean_elev  mean_cut  mean_ascu  \\\n",
      "0       3.261452  22000.9585  93291.3596  3007.4548   0.66713    0.05204   \n",
      "1       3.397347  21994.4186  93262.4155  3012.6817   0.70342    0.05179   \n",
      "2       1.367969  21981.7750  93242.7717  3016.2124   0.74661    0.04851   \n",
      "3       1.468225  21962.3940  93231.9077  3017.7024   0.76006    0.04800   \n",
      "4       1.928118  21943.4862  93223.0564  3019.1894   0.74359    0.05124   \n",
      "\n",
      "    std_north    std_east   std_elev   std_cut  std_ascu  \n",
      "0  112.290425  113.334815  18.347087  0.671126  0.061605  \n",
      "1  115.649209   82.363063  12.446261  0.671612  0.060580  \n",
      "2  110.557626   57.787696   6.297990  0.682726  0.043705  \n",
      "3  100.692864   49.292031   5.108518  0.677241  0.041957  \n",
      "4   86.333681   46.900433   2.855481  0.666718  0.050005  \n"
     ]
    }
   ],
   "source": [
    "#Discard rows again with missing freatures\n",
    "feature_set = pd.DataFrame(features_single_block.dropna(axis=0, how='any', thresh=None, subset=None, inplace=False))\n",
    "print(feature_set.head())"
   ]
  },
  {
   "cell_type": "code",
   "execution_count": 8,
   "metadata": {},
   "outputs": [
    {
     "name": "stdout",
     "output_type": "stream",
     "text": [
      "   rock_types  code_types  kurtosis_CUT  kurtosis_ASCU  skewness_CUT  \\\n",
      "0           9           4      7.052115      16.060144      2.548896   \n",
      "1           9           4      6.517871      17.365461      2.432630   \n",
      "2           7           3      5.465062       1.148718      2.225556   \n",
      "3           7           3      5.440773       1.502412      2.219846   \n",
      "4           8           4      6.078876       4.072747      2.316742   \n",
      "\n",
      "   skewness_ASCU  mean_north   mean_east  mean_elev  mean_cut  mean_ascu  \\\n",
      "0       3.261452  22000.9585  93291.3596  3007.4548   0.66713    0.05204   \n",
      "1       3.397347  21994.4186  93262.4155  3012.6817   0.70342    0.05179   \n",
      "2       1.367969  21981.7750  93242.7717  3016.2124   0.74661    0.04851   \n",
      "3       1.468225  21962.3940  93231.9077  3017.7024   0.76006    0.04800   \n",
      "4       1.928118  21943.4862  93223.0564  3019.1894   0.74359    0.05124   \n",
      "\n",
      "    std_north    std_east   std_elev   std_cut  std_ascu  0  \n",
      "0  112.290425  113.334815  18.347087  0.671126  0.061605  0  \n",
      "1  115.649209   82.363063  12.446261  0.671612  0.060580  0  \n",
      "2  110.557626   57.787696   6.297990  0.682726  0.043705  0  \n",
      "3  100.692864   49.292031   5.108518  0.677241  0.041957  0  \n",
      "4   86.333681   46.900433   2.855481  0.666718  0.050005  0  \n"
     ]
    }
   ],
   "source": [
    "'''\n",
    "Cluster all the blocks\n",
    "Track cluster assignments along the sorted direction\n",
    "'''\n",
    "###k means clustering\n",
    "from sklearn.cluster import KMeans\n",
    "#change number of clusters in config file, current setting is 10  \n",
    "kmeans = KMeans(n_clusters=num_clusters, random_state=0).fit(feature_set)\n",
    "state = pd.DataFrame(kmeans.labels_)\n",
    "cluster_result = pd.concat([feature_set, state], axis=1)\n",
    "print(cluster_result.head())"
   ]
  },
  {
   "cell_type": "code",
   "execution_count": 9,
   "metadata": {},
   "outputs": [
    {
     "name": "stdout",
     "output_type": "stream",
     "text": [
      "next_state         0         1         2         3         4         5\n",
      "state                                                                 \n",
      "0           0.942019  0.000000  0.040246  0.000000  0.000000  0.017735\n",
      "1           0.000000  0.911544  0.006997  0.039980  0.024988  0.016492\n",
      "2           0.018291  0.005980  0.942666  0.026029  0.000000  0.007035\n",
      "3           0.000685  0.027416  0.024332  0.946539  0.000000  0.001028\n",
      "4           0.000000  0.029126  0.000000  0.000000  0.957282  0.013592\n",
      "5           0.019355  0.022581  0.012258  0.001290  0.010968  0.933548\n"
     ]
    }
   ],
   "source": [
    "import pandas as pd\n",
    "transitions = list(kmeans.labels_)\n",
    "df = pd.DataFrame(columns = ['state', 'next_state'])\n",
    "for i, val in enumerate(transitions[:-1]): # We don't care about last state\n",
    "    df_stg = pd.DataFrame(index=[0])\n",
    "    df_stg['state'], df_stg['next_state'] = transitions[i], transitions[i+1]\n",
    "    df = pd.concat([df, df_stg], axis = 0)\n",
    "cross_tab = pd.crosstab(df['state'], df['next_state'])\n",
    "print(cross_tab.div(cross_tab.sum(axis=1), axis=0))"
   ]
  },
  {
   "cell_type": "code",
   "execution_count": null,
   "metadata": {},
   "outputs": [],
   "source": []
  }
 ],
 "metadata": {
  "kernelspec": {
   "display_name": "Python 3",
   "language": "python",
   "name": "python3"
  },
  "language_info": {
   "codemirror_mode": {
    "name": "ipython",
    "version": 3
   },
   "file_extension": ".py",
   "mimetype": "text/x-python",
   "name": "python",
   "nbconvert_exporter": "python",
   "pygments_lexer": "ipython3",
   "version": "3.6.5"
  }
 },
 "nbformat": 4,
 "nbformat_minor": 2
}
